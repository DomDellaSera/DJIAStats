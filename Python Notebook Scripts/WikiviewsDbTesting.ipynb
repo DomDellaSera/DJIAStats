{
 "cells": [
  {
   "cell_type": "code",
   "execution_count": 374,
   "metadata": {
    "collapsed": false
   },
   "outputs": [],
   "source": [
    "import gzip\n",
    "import re\n",
    "import urllib2\n",
    "from lxml import html\n",
    "import requests\n",
    "import StringIO"
   ]
  },
  {
   "cell_type": "code",
   "execution_count": 375,
   "metadata": {
    "collapsed": false
   },
   "outputs": [],
   "source": [
    "with gzip.open('/home/dominic/Documents/Programming/Python/DJIA Wikiviews Continuation/zippedtestdoc.gz', 'rb') as f:\n",
    "    testfile_content = f.read()"
   ]
  },
  {
   "cell_type": "code",
   "execution_count": 386,
   "metadata": {
    "collapsed": false
   },
   "outputs": [],
   "source": [
    "#print re.findall('en Biogeo.*', file_content)\n",
    "#print len(re.findall('en Biogeo.*', file_content))\n",
    "#print len(re.findall('en .*', testfile_content))\n",
    "\n",
    "#print len(re.findall('en .* [0-9]+ [0-9][0-9]{6,10}', testfile_content))\n",
    "#re.findall('en .* [0-9]+ [0-9][0-9]{5,5}', testfile_content)"
   ]
  },
  {
   "cell_type": "code",
   "execution_count": 377,
   "metadata": {
    "collapsed": true
   },
   "outputs": [],
   "source": [
    "with gzip.open('/home/dominic/Downloads/pagecounts-20160301-000000.gz', 'rb') as f:\n",
    "    file_content = f.read()"
   ]
  },
  {
   "cell_type": "code",
   "execution_count": 378,
   "metadata": {
    "collapsed": false
   },
   "outputs": [
    {
     "name": "stdout",
     "output_type": "stream",
     "text": [
      "['en Apple_Inc. 284 46205516']\n",
      "['en 3M 34 1229541']\n",
      "['en Intel 78 14478541']\n"
     ]
    }
   ],
   "source": [
    "print re.findall('en Apple_Inc. .*', file_content)\n",
    "print re.findall('en 3M .*', file_content)\n",
    "print re.findall('en Intel .*', file_content)\n"
   ]
  },
  {
   "cell_type": "code",
   "execution_count": 379,
   "metadata": {
    "collapsed": false
   },
   "outputs": [],
   "source": [
    "head =open('/home/dominic/Documents/Programming/Python/DJIA Wikiviews Continuation/dow30clean.csv')\n",
    "dow30 = head.read()"
   ]
  },
  {
   "cell_type": "code",
   "execution_count": 380,
   "metadata": {
    "collapsed": false
   },
   "outputs": [],
   "source": [
    "dow30 = re.findall('(\\w.*)\\'', dow30)\n",
    "\n"
   ]
  },
  {
   "cell_type": "code",
   "execution_count": 381,
   "metadata": {
    "collapsed": false
   },
   "outputs": [
    {
     "data": {
      "text/plain": [
       "[['American_Express 62 4018857'],\n",
       " ['Apple_Inc. 284 46205516'],\n",
       " ['Boeing 94 6773012'],\n",
       " ['Caterpillar_Inc. 51 3595469'],\n",
       " ['Chevron_Corporation 31 2823864'],\n",
       " ['Cisco_Systems 61 4469382'],\n",
       " ['The_Coca-Cola_Company 53 2140247'],\n",
       " ['DuPont 45 2675025'],\n",
       " ['ExxonMobil 43 3306269'],\n",
       " ['General_Electric 85 6056262'],\n",
       " ['Goldman_Sachs 96 10964828'],\n",
       " ['The_Home_Depot 30 1500367'],\n",
       " ['IBM 110 8660226'],\n",
       " ['Intel 78 14478541'],\n",
       " ['Johnson_%26_Johnson 48 2516448'],\n",
       " ['JPMorgan_Chase 102 8502748'],\n",
       " ['McDonald%27s 140 11427131'],\n",
       " ['Merck_%26_Co. 21 877360'],\n",
       " ['Microsoft 246 46173229'],\n",
       " ['Nike,_Inc. 119 5535055'],\n",
       " ['Pfizer 44 3294393'],\n",
       " ['Procter_%26_Gamble 64 2662403'],\n",
       " ['The_Travelers_Companies 11 331100'],\n",
       " ['UnitedHealth_Group 27 825232'],\n",
       " ['United_Technologies_Corporation 11 277010'],\n",
       " ['Verizon_Communications 37 4068734'],\n",
       " ['Visa_Inc. 32 1847725'],\n",
       " ['Walmart 145 17549865'],\n",
       " ['The_Walt_Disney_Company 146 9133484']]"
      ]
     },
     "execution_count": 381,
     "metadata": {},
     "output_type": "execute_result"
    }
   ],
   "source": [
    "regularexpression = ['en (' + x + ' .*)' for x in dow30]\n",
    "[re.findall(x, file_content) for x in regularexpression]"
   ]
  },
  {
   "cell_type": "code",
   "execution_count": 382,
   "metadata": {
    "collapsed": false
   },
   "outputs": [
    {
     "data": {
      "text/plain": [
       "['en American_Express .*',\n",
       " 'en Apple_Inc. .*',\n",
       " 'en Boeing .*',\n",
       " 'en Caterpillar_Inc. .*',\n",
       " 'en Chevron_Corporation .*',\n",
       " 'en Cisco_Systems .*',\n",
       " 'en The_Coca-Cola_Company .*',\n",
       " 'en DuPont .*',\n",
       " 'en ExxonMobil .*',\n",
       " 'en General_Electric .*',\n",
       " 'en Goldman_Sachs .*',\n",
       " 'en The_Home_Depot .*',\n",
       " 'en IBM .*',\n",
       " 'en Intel .*',\n",
       " 'en Johnson_%26_Johnson .*',\n",
       " 'en JPMorgan_Chase .*',\n",
       " 'en McDonald%27s .*',\n",
       " 'en Merck_%26_Co. .*',\n",
       " 'en Microsoft .*',\n",
       " 'en Nike,_Inc. .*',\n",
       " 'en Pfizer .*',\n",
       " 'en Procter_%26_Gamble .*',\n",
       " 'en The_Travelers_Companies .*',\n",
       " 'en UnitedHealth_Group .*',\n",
       " 'en United_Technologies_Corporation .*',\n",
       " 'en Verizon_Communications .*',\n",
       " 'en Visa_Inc. .*',\n",
       " 'en Walmart .*',\n",
       " 'en The_Walt_Disney_Company .*']"
      ]
     },
     "execution_count": 382,
     "metadata": {},
     "output_type": "execute_result"
    }
   ],
   "source": [
    "['en ' + x + ' .*' for x in dow30]"
   ]
  },
  {
   "cell_type": "code",
   "execution_count": 383,
   "metadata": {
    "collapsed": false
   },
   "outputs": [
    {
     "ename": "NameError",
     "evalue": "name 'ET' is not defined",
     "output_type": "error",
     "traceback": [
      "\u001b[1;31m---------------------------------------------------------------------------\u001b[0m",
      "\u001b[1;31mNameError\u001b[0m                                 Traceback (most recent call last)",
      "\u001b[1;32m<ipython-input-383-2c687c8b5b2a>\u001b[0m in \u001b[0;36m<module>\u001b[1;34m()\u001b[0m\n\u001b[1;32m----> 1\u001b[1;33m \u001b[0msnp500\u001b[0m\u001b[1;33m=\u001b[0m \u001b[0mET\u001b[0m\u001b[1;33m.\u001b[0m\u001b[0mparse\u001b[0m\u001b[1;33m(\u001b[0m\u001b[1;34m'https://en.wikipedia.org/wiki/List_of_S%26P_500_companies#S.26P_500_Component_Stocks'\u001b[0m\u001b[1;33m)\u001b[0m\u001b[1;33m\u001b[0m\u001b[0m\n\u001b[0m",
      "\u001b[1;31mNameError\u001b[0m: name 'ET' is not defined"
     ]
    }
   ],
   "source": [
    "snp500= ET.parse('https://en.wikipedia.org/wiki/List_of_S%26P_500_companies#S.26P_500_Component_Stocks')"
   ]
  },
  {
   "cell_type": "code",
   "execution_count": null,
   "metadata": {
    "collapsed": false
   },
   "outputs": [],
   "source": [
    "#/html/body/div[3]/div[3]/div[4]/ul[29]/li[1]/a\n",
    "#xhtml =ET.Element('https://en.wikipedia.org/wiki/List_of_S%26P_500_companies#S.26P_500_Component_Stocks')\n",
    "#html = urllib2.urlopen('https://en.wikipedia.org/wiki/Outline_of_economics#General_economic_concepts').read()\n",
    "p"
   ]
  },
  {
   "cell_type": "code",
   "execution_count": null,
   "metadata": {
    "collapsed": false
   },
   "outputs": [],
   "source": [
    "#ET.ElementPath('/html/body/div[3]/div[3]/div[4]/ul[29]/li[1]/a')\n",
    "xpath= '/li/a'"
   ]
  },
  {
   "cell_type": "code",
   "execution_count": null,
   "metadata": {
    "collapsed": false
   },
   "outputs": [],
   "source": [
    "git://github.com/lxml/lxml.git"
   ]
  },
  {
   "cell_type": "code",
   "execution_count": null,
   "metadata": {
    "collapsed": false
   },
   "outputs": [],
   "source": [
    "page = requests.get('https://en.wikipedia.org/wiki/Outline_of_economics#General_economic_concepts')\n",
    "tree = html.fromstring(page.content)\n",
    "\n",
    "\n",
    "topics= tree.xpath('//html/body/div[3]/div[3]/div[4]/ul[29]/li/a/text()')\n",
    "nestedtopics = tree.xpath('//html/body/div[3]/div[3]/div[4]/ul[29]/li/ul/li/a/text()')"
   ]
  },
  {
   "cell_type": "code",
   "execution_count": null,
   "metadata": {
    "collapsed": false
   },
   "outputs": [],
   "source": [
    "wikitext = tree.xpath('//a/text()')\n",
    "linkswiki =tree.xpath('//a/@href')\n",
    "\n",
    "linkswiki[10:20]\n",
    "#wikilist=[(re.findall('^/wiki/(.*)', x)) for x in linkswiki if \"/wiki/\" in x]\n",
    "#wikilist\n",
    "#sum(wikilist, [])"
   ]
  },
  {
   "cell_type": "code",
   "execution_count": null,
   "metadata": {
    "collapsed": false
   },
   "outputs": [],
   "source": [
    "tree.xpath('//a/@href'),\n",
    "for i in tree.xpath('//a/text()')"
   ]
  },
  {
   "cell_type": "code",
   "execution_count": null,
   "metadata": {
    "collapsed": false
   },
   "outputs": [],
   "source": [
    "companies=file('/home/dominic/Documents/Programming/Python/DJIA Wikiviews Continuation/snp500')\n",
    "companies= companies.read()\n",
    "companylist =companies.split(\",\")\n"
   ]
  },
  {
   "cell_type": "code",
   "execution_count": null,
   "metadata": {
    "collapsed": false
   },
   "outputs": [],
   "source": [
    "companylist"
   ]
  },
  {
   "cell_type": "code",
   "execution_count": null,
   "metadata": {
    "collapsed": false
   },
   "outputs": [],
   "source": [
    "print companylist.index(' tariff and trade')\n",
    "print companylist.index(' costs')\n",
    "companylist[253] = 'Tax, tariff and trade'\n",
    "companylist[197]='Production, costs, and pricing'"
   ]
  },
  {
   "cell_type": "code",
   "execution_count": null,
   "metadata": {
    "collapsed": false
   },
   "outputs": [],
   "source": [
    "print companylist[252]\n",
    "print companylist[199]\n",
    "print companylist[198]"
   ]
  },
  {
   "cell_type": "code",
   "execution_count": null,
   "metadata": {
    "collapsed": false
   },
   "outputs": [],
   "source": [
    "companylist.remove(companylist[252])\n",
    "companylist.remove(companylist[199])\n",
    "companylist.remove(companylist[198])"
   ]
  },
  {
   "cell_type": "code",
   "execution_count": null,
   "metadata": {
    "collapsed": false
   },
   "outputs": [],
   "source": [
    "companylist[-1] = \"Zone pricing\""
   ]
  },
  {
   "cell_type": "code",
   "execution_count": null,
   "metadata": {
    "collapsed": false
   },
   "outputs": [],
   "source": [
    "companylisttmp =[ x.replace(\" \", \"_\")  for x in companylist]\n",
    "companylisttmp =[ x.replace(\"-\", \"_\")  for x in companylisttmp]\n",
    "companylisttmp =[ x.replace(\"(\",\"%28\")  for x in companylisttmp]\n",
    "companylist =[ x.replace(\")\", \"%29\")  for x in companylisttmp]\n",
    "\n",
    "\n",
    "\n",
    "#, x.replace(\"(\",\"%28\") , x.replace(\")\", \"%29\")"
   ]
  },
  {
   "cell_type": "code",
   "execution_count": null,
   "metadata": {
    "collapsed": false
   },
   "outputs": [],
   "source": [
    "outputlist= [['en Agent_%28economics%29 1 11821'],\n",
    " ['en Aggregate_demand 22 464880'],\n",
    " ['en Aggregate_supply 7 67476'],\n",
    " ['en Agricultural_policy 3 185278'],\n",
    " ['en Antitrust 12 1673654'],\n",
    " ['en Arbitrage 35 973520'],\n",
    " ['en Balance_of_trade 23 825391'],\n",
    " ['en Big_Mac_Index 18 657455'],\n",
    " [],\n",
    " ['en Black_market 41 4141632'],\n",
    " ['en Business_cycle 27 2465641'],\n",
    " ['en Canadian_and_American_economies_compared 1 62086'],\n",
    " ['en Capital_%28economics%29 1 83340'],\n",
    " ['en Capital_asset 9 124022'],\n",
    " ['en Capital_intensity 5 56699'],\n",
    " ['en Capitalism 148 23566350'],\n",
    " ['en Cartel 21 558101'],\n",
    " ['en Cash_crop 17 796483'],\n",
    " [],\n",
    " ['en Central_bank 22 1803196'],\n",
    " [],\n",
    " ['en Classical_economics 16 438807'],\n",
    " ['en Collective_action 10 180366'],\n",
    " ['en Collusion 12 205081'],\n",
    " ['en Commodity 30 973975'],\n",
    " [],\n",
    " [],\n",
    " ['en Comparative_advantage 36 1456289'],\n",
    " ['en Competition 29 1427895'],\n",
    " ['en Complement_good 1 13739'],\n",
    " ['en Complementarity 1 8387'],\n",
    " ['en Consumer 13 280722'],\n",
    " [],\n",
    " ['en Consumer_price_index 36 1127430'],\n",
    " [],\n",
    " ['en Consumerism 44 2274006'],\n",
    " [],\n",
    " ['en Cost 7 106486'],\n",
    " ['en Cost_benefit_analysis 1 28729'],\n",
    " ['en Cost_of_living_index 1 36891'],\n",
    " [],\n",
    " ['en Currency 34 2378267'],\n",
    " ['en Debt 19 903787'],\n",
    " ['en Decentralization 32 2358101'],\n",
    " [],\n",
    " [],\n",
    " ['en Devaluation 11 186386'],\n",
    " ['en Disinflation 4 59977'],\n",
    " ['en Disposable_income 2 20396'],\n",
    " [],\n",
    " ['en Economic 3 233418'],\n",
    " ['en Economic_data 2 30039'],\n",
    " ['en Economic_growth 59 4851594'],\n",
    " ['en Economic_indicator 6 99830'],\n",
    " [],\n",
    " [],\n",
    " [],\n",
    " ['en Economic_system 26 1067815'],\n",
    " ['en Economies_of_agglomeration 6 80400'],\n",
    " ['en Economies_of_scale 30 683693'],\n",
    " ['en Economies_of_scope 6 83019'],\n",
    " ['en Economy 33 1143572'],\n",
    " ['en Ecosystem_services 28 1319552'],\n",
    " [],\n",
    " [],\n",
    " [],\n",
    " ['en Employment 61 6068781'],\n",
    " ['en Entrepreneur 15 923250'],\n",
    " ['en Entrepreneurship 62 3979787'],\n",
    " ['en Environmental_finance 1 9732'],\n",
    " ['en Euro 138 22103915'],\n",
    " ['en Event_study 1 0'],\n",
    " [],\n",
    " ['en Export 27 2157903'],\n",
    " ['en Externality 34 1423891'],\n",
    " [],\n",
    " ['en Factors_of_production 22 536875'],\n",
    " ['en Fair_trade 37 4811549'],\n",
    " ['en Federal_Reserve 5 1359110'],\n",
    " ['en Finance 59 2028013'],\n",
    " ['en Financial_capital 7 178702'],\n",
    " ['en Financial_crisis 20 929911'],\n",
    " ['en Financial_instruments 2 104590'],\n",
    " [],\n",
    " ['en Fiscal_policy 26 537387'],\n",
    " [],\n",
    " ['en Free_trade 62 3689818'],\n",
    " [],\n",
    " ['en Game_theory 122 10726409'],\n",
    " ['en General_equilibrium 1 35670'],\n",
    " ['en Globalization 139 33075867'],\n",
    " [],\n",
    " [],\n",
    " [],\n",
    " ['en Gross_domestic_product 160 10004750'],\n",
    " ['en Gross_national_product 20 354948'],\n",
    " ['en History_of_economic_thought 19 3681956'],\n",
    " ['en Home_economics 2 47160'],\n",
    " ['en Human_Development_Index 136 13775108'],\n",
    " ['en Human_capital 41 1582309'],\n",
    " ['en Human_development_theory 4 37076'],\n",
    " ['en Hyperinflation 32 3229830'],\n",
    " ['en Import 15 190747'],\n",
    " [],\n",
    " ['en Incentive 2 32103'],\n",
    " ['en Income 6 79416'],\n",
    " ['en Income_elasticity_of_demand 19 222759'],\n",
    " ['en Income_tax 44 1482336'],\n",
    " [],\n",
    " ['en Individual_capital 2 56137'],\n",
    " ['en Induced_demand 2 14220'],\n",
    " [],\n",
    " ['en Industrial_Revolution 300 35076999'],\n",
    " ['en Industrial_policy 5 265237'],\n",
    " ['en Industrialisation 31 681417'],\n",
    " [],\n",
    " [],\n",
    " [],\n",
    " ['en Interest 15 545894'],\n",
    " ['en International_trade 22 1240829'],\n",
    " ['en Investment 19 545010'],\n",
    " ['en Investment_policy 4 158786'],\n",
    " [],\n",
    " ['en John_Maynard_Keynes 65 7296261'],\n",
    " ['en Keynesian_economics 66 3626257'],\n",
    " [],\n",
    " ['en Labor_market 2 160737'],\n",
    " ['en Labor_theory_of_value 23 1027078'],\n",
    " ['en Laissez_faire 1 38296'],\n",
    " [],\n",
    " ['en Land_value_tax 4 695236'],\n",
    " ['en List_of_recessions 1 22244'],\n",
    " [],\n",
    " ['en Living_wage 13 584920'],\n",
    " ['en Local_currency 6 164360'],\n",
    " ['en Local_purchasing 4 127523'],\n",
    " ['en Lorenz_curve 20 243950'],\n",
    " ['en Macroeconomics 23 1195507'],\n",
    " [],\n",
    " ['en Marginalism 4 103381'],\n",
    " ['en Market 4 84822'],\n",
    " ['en Market_%28economics%29 1 42977'],\n",
    " ['en Market_economy 41 1676175'],\n",
    " ['en Market_failure 18 456887'],\n",
    " [],\n",
    " ['en Market_power 4 61703'],\n",
    " ['en Market_share 17 274449'],\n",
    " ['en Market_system 1 10951'],\n",
    " [],\n",
    " ['en Means_of_production 26 640229'],\n",
    " [],\n",
    " [],\n",
    " ['en Medium_of_exchange 6 92730'],\n",
    " ['en Mental_accounting 2 26273'],\n",
    " [],\n",
    " ['en Mercantilism 74 3539229'],\n",
    " ['en Mergers_and_acquisitions 59 4390483'],\n",
    " ['en Minimum_wage 58 6378825'],\n",
    " [],\n",
    " [],\n",
    " [],\n",
    " ['en Modern_portfolio_theory 32 1044997'],\n",
    " ['en Monetarism 15 623817'],\n",
    " ['en Monetary_policy 34 2261502'],\n",
    " [],\n",
    " ['en Money 51 3392173'],\n",
    " ['en Money_supply 31 1613259'],\n",
    " ['en Monopoly_profit 1 17433'],\n",
    " ['en Moral_hazard 18 547699'],\n",
    " ['en Moral_purchasing 1 140311'],\n",
    " [],\n",
    " [],\n",
    " ['en Natural_Capitalism 3 71822'],\n",
    " ['en Natural_capital 6 171378'],\n",
    " [],\n",
    " [],\n",
    " [],\n",
    " ['en Neoclassical_economics 27 781038'],\n",
    " ['en Network_effect 27 731864'],\n",
    " [],\n",
    " ['en New_Keynesian_economics 8 539508'],\n",
    " ['en New_classical_economics 1 19686'],\n",
    " [],\n",
    " ['en Operations_research 27 1209884'],\n",
    " ['en Opportunity_cost 35 777879'],\n",
    " [],\n",
    " ['en Parable_of_the_broken_window 26 498963'],\n",
    " ['en Pareto_efficiency 36 857482'],\n",
    " ['en Participatory_economics 8 339179'],\n",
    " ['en Petrocurrency 2 32950'],\n",
    " ['en Poverty 147 28293453'],\n",
    " ['en Poverty_level 1 32247'],\n",
    " ['en Preference 6 60650'],\n",
    " ['en Price 44 825095'],\n",
    " ['en Price_discrimination 17 446027'],\n",
    " ['en Price_elasticity_of_demand 100 3200132'],\n",
    " [],\n",
    " ['en Production,_costs,_and_pricing 1 12454'],\n",
    " ['en Production_%28economics%29 1 24884'],\n",
    " ['en Production_function 22 849636'],\n",
    " [],\n",
    " ['en Productivism 2 60600'],\n",
    " [],\n",
    " [],\n",
    " ['en Profit_maximization 22 363773'],\n",
    " ['en Prospect_theory 28 474054'],\n",
    " [],\n",
    " ['en Public_choice_theory 3 93053'],\n",
    " ['en Public_debt 2 78862'],\n",
    " ['en Public_good 34 1714298'],\n",
    " ['en Purchasing_power_parity 75 2819494'],\n",
    " ['en Rate_of_return_pricing 1 9308'],\n",
    " ['en Rational_choice_theory 46 1427278'],\n",
    " ['en Rational_expectations 4 91232'],\n",
    " ['en Rational_pricing 2 90189'],\n",
    " ['en Reaganomics 44 2320602'],\n",
    " [],\n",
    " [],\n",
    " ['en Recession 28 1779855'],\n",
    " ['en Regression_analysis 137 5341869'],\n",
    " ['en Reserve_currency 18 743954'],\n",
    " ['en Returns_to_scale 22 317825'],\n",
    " ['en Risk_premium 10 107809'],\n",
    " [],\n",
    " ['en Sales_tax 10 319040'],\n",
    " [],\n",
    " ['en Scarcity 18 289332'],\n",
    " ['en Seven_generation_sustainability 3 25338'],\n",
    " ['en Slavery 133 32423506'],\n",
    " ['en Social_capital 35 3534876'],\n",
    " ['en Social_cost 6 76259'],\n",
    " [],\n",
    " ['en Social_welfare 7 536322'],\n",
    " ['en Socialism 368 86035150'],\n",
    " ['en Specialization_%28functional%29 1 8605'],\n",
    " ['en Stagflation 17 858610'],\n",
    " ['en Standard_of_living 25 311283'],\n",
    " ['en Stock_exchange 29 1489384'],\n",
    " ['en Subsidy 21 1000632'],\n",
    " ['en Subsistence_agriculture 6 93312'],\n",
    " ['en Substitute_good 11 163622'],\n",
    " ['en Sunk_cost 2 44634'],\n",
    " [],\n",
    " ['en Supply_and_demand 37 1336454'],\n",
    " ['en Surplus_value 7 308921'],\n",
    " ['en Sustainable_competitive_advantage 2 37776'],\n",
    " ['en Sustainable_development 59 3559082'],\n",
    " ['en Sweatshop 29 1341926'],\n",
    " ['en Tariff 21 718802'],\n",
    " ['en Tax 73 10778729'],\n",
    " [],\n",
    " [],\n",
    " ['en Terms_of_trade 4 50164'],\n",
    " ['en The_Theory_of_Moral_Sentiments 5 137207'],\n",
    " [],\n",
    " [],\n",
    " ['en Time_value_of_money 18 554711'],\n",
    " ['en Trade 44 2795743'],\n",
    " ['en Trade_bloc 10 628942'],\n",
    " ['en Trade_pact 1 19771'],\n",
    " [],\n",
    " ['en Transaction_cost 8 137336'],\n",
    " ['en Triple_bottom_line 41 984755'],\n",
    " [],\n",
    " ['en U.S._public_debt 1 327406'],\n",
    " [],\n",
    " ['en Uneconomic_growth 2 27751'],\n",
    " ['en Unemployment 47 7477324'],\n",
    " ['en United_States_dollar 113 12538262'],\n",
    " ['en Utilitarianism 183 19386525'],\n",
    " ['en Utility 39 982480'],\n",
    " [],\n",
    " ['en Value_added_tax 9 929108'],\n",
    " [],\n",
    " ['en Value_added 12 229808'],\n",
    " ['en Value_of_Earth 2 27484'],\n",
    " ['en Value_of_life 1 18292'],\n",
    " ['en Virtuous_circle_and_vicious_circle 18 229693'],\n",
    " [],\n",
    " ['en Wealth 24 1047231'],\n",
    " [],\n",
    " ['en Yen 2 320195'],\n",
    " [],\n",
    " [],\n",
    " []]"
   ]
  },
  {
   "cell_type": "code",
   "execution_count": null,
   "metadata": {
    "collapsed": false
   },
   "outputs": [],
   "source": [
    "\n",
    "regexcomp = ['en ' + x + ' .*' for x in companylist]\n",
    "print('done')\n",
    "wikiviews_initial =[re.findall(x, file_content) for x in regexcomp]\n",
    "#regexcomp"
   ]
  },
  {
   "cell_type": "code",
   "execution_count": 435,
   "metadata": {
    "collapsed": false
   },
   "outputs": [
    {
     "name": "stdout",
     "output_type": "stream",
     "text": [
      "52\n"
     ]
    }
   ],
   "source": [
    "import sys\n",
    "#print len(re.findall('en \\D.*',file_content))\n",
    "#print len(re.findall('en .*',file_content))\n",
    "#print len(re.findall('en \\D.* [0-9][0-9]{4,10}',file_content))\n",
    "#print len(file_content)\n",
    "print len(\"List_of_economic_reports_by_U.S._government_agencies\")\n",
    "wikiimportant =(re.findall('en \\D.{0,64} [0-9][0-9]{4,10}',file_content))\n",
    "wikitest = wikiimportant[1:30]\n",
    "wikitest= [x.split(\" \") for x in wikitest]"
   ]
  },
  {
   "cell_type": "code",
   "execution_count": 437,
   "metadata": {
    "collapsed": false
   },
   "outputs": [
    {
     "data": {
      "text/plain": [
       "['en',\n",
       " '$1M_Winning_Lottery_Ticket_Sold_In_Union_County_Still_Unclaimed',\n",
       " '1',\n",
       " '27365']"
      ]
     },
     "execution_count": 437,
     "metadata": {},
     "output_type": "execute_result"
    }
   ],
   "source": [
    "wikitest [28]"
   ]
  },
  {
   "cell_type": "code",
   "execution_count": null,
   "metadata": {
    "collapsed": false
   },
   "outputs": [],
   "source": [
    "en_wiki = re.findall('en \\D\\w.* [0-9][0-9]{5,10}',file_content)\n",
    "[re.findall(x, y) for x in regexcomp for y in en_wiki]\n",
    "print str(en_wiki[300:306])\n",
    "print file_content[500:509]"
   ]
  },
  {
   "cell_type": "code",
   "execution_count": null,
   "metadata": {
    "collapsed": false
   },
   "outputs": [],
   "source": [
    "regexcomp"
   ]
  },
  {
   "cell_type": "code",
   "execution_count": null,
   "metadata": {
    "collapsed": false
   },
   "outputs": [],
   "source": [
    "missinglist =[outputlist.index(x) for x in outputlist if x]"
   ]
  },
  {
   "cell_type": "code",
   "execution_count": null,
   "metadata": {
    "collapsed": false
   },
   "outputs": [],
   "source": [
    "j = 0\n",
    "badletters=None\n",
    "badletters = list()\n",
    "for i in missinglist:\n",
    "    if j == i:\n",
    "        j +=1\n",
    "        print ('yay')\n",
    "    elif j + 1 == i:\n",
    "        badletters.append(i-1)\n",
    "        j += 2\n",
    "        print('no')\n",
    "        \n",
    "    elif j + 2 == i:\n",
    "        badletters.append(i-2)\n",
    "        badletters.append(i-1)\n",
    "        j += 3\n",
    "        print('eohhh')\n",
    "    elif j + 3 == i:\n",
    "        badletters.append(i-3)\n",
    "        badletters.append(i-2)\n",
    "        badletters.append(i-1)\n",
    "        j += 4\n",
    "        print\"dam what a fuckup\"\n",
    "    \n",
    "        \n",
    "        \n",
    "        \n",
    "\n",
    "print(badletters)"
   ]
  },
  {
   "cell_type": "code",
   "execution_count": null,
   "metadata": {
    "collapsed": false
   },
   "outputs": [],
   "source": [
    "badletterstest =[outputlist[x] for x in badletters]"
   ]
  },
  {
   "cell_type": "code",
   "execution_count": null,
   "metadata": {
    "collapsed": true
   },
   "outputs": [],
   "source": [
    "missinglist"
   ]
  },
  {
   "cell_type": "code",
   "execution_count": null,
   "metadata": {
    "collapsed": false
   },
   "outputs": [],
   "source": [
    "badpages =[companylist[x] for x in badletters]\n"
   ]
  },
  {
   "cell_type": "code",
   "execution_count": null,
   "metadata": {
    "collapsed": false
   },
   "outputs": [],
   "source": [
    "len(badletters)"
   ]
  },
  {
   "cell_type": "code",
   "execution_count": null,
   "metadata": {
    "collapsed": false
   },
   "outputs": [],
   "source": [
    "def get_redirected_url(url):\n",
    "    opener = urllib2.build_opener(urllib2.HTTPRedirectHandler)\n",
    "    request = opener.open(url)\n",
    "    return request.url\n",
    "get_redirected_url('http://www.GOOGLE.com')"
   ]
  },
  {
   "cell_type": "code",
   "execution_count": null,
   "metadata": {
    "collapsed": false
   },
   "outputs": [],
   "source": [
    "searchstart = 'https://en.wikipedia.org/w/index.php?search='\n",
    "searchend='&title=Special%3ASearch&go=Go'\n",
    "badurls = [\"https://en.wikipedia.org/wiki/\"+x for x in badpages]"
   ]
  },
  {
   "cell_type": "code",
   "execution_count": null,
   "metadata": {
    "collapsed": false,
    "scrolled": true
   },
   "outputs": [],
   "source": [
    "redirectedlinks = list()\n",
    "for i in badpages:\n",
    "    redirect = get_redirected_url(searchstart+str(i)+searchend)\n",
    "    #print \"done\"\n",
    "    if redirect == \"https://en.wikipedia.org/wiki/\"+i:\n",
    "        #print \"redirect is identical\"\n",
    "    else:\n",
    "        print redirect\n",
    "    redirectedlinks.append(redirect)"
   ]
  },
  {
   "cell_type": "code",
   "execution_count": null,
   "metadata": {
    "collapsed": false
   },
   "outputs": [],
   "source": [
    "#[x[30:] for x in redirectedlinks]"
   ]
  },
  {
   "cell_type": "code",
   "execution_count": null,
   "metadata": {
    "collapsed": false
   },
   "outputs": [],
   "source": []
  },
  {
   "cell_type": "code",
   "execution_count": null,
   "metadata": {
    "collapsed": false
   },
   "outputs": [],
   "source": []
  },
  {
   "cell_type": "code",
   "execution_count": null,
   "metadata": {
    "collapsed": false
   },
   "outputs": [],
   "source": [
    "#/html/body/div[4]/div[1]/div[2]/div[1]/ul/li[1]/span/a\n",
    "goodurls = list()\n",
    "for i in badurls:\n",
    "    pagetest = requests.get(i)\n",
    "    treetest = html.fromstring(pagetest.content)\n",
    "    goodurls.append(treetest.xpath(\"/html/body/div[4]/div[1]/div[2]/div[1]/ul/li[1]/span/a/@href\"))\n",
    "        "
   ]
  },
  {
   "cell_type": "code",
   "execution_count": null,
   "metadata": {
    "collapsed": false
   },
   "outputs": [],
   "source": [
    "stringurls =[x[0] for x in goodurls]\n",
    "badredirects = [re.findall('^/w/.+', y) for y in stringurls]\n",
    "#goodurls\n"
   ]
  },
  {
   "cell_type": "raw",
   "metadata": {},
   "source": []
  },
  {
   "cell_type": "code",
   "execution_count": null,
   "metadata": {
    "collapsed": false
   },
   "outputs": [],
   "source": [
    "goodbadindex=[len(x)== 0 for x in badredirects]"
   ]
  },
  {
   "cell_type": "code",
   "execution_count": null,
   "metadata": {
    "collapsed": false
   },
   "outputs": [],
   "source": [
    "aggregateurls=list()\n",
    "for i in range(len(goodbadindex)):\n",
    "    if goodbadindex[i] is True:\n",
    "        aggregateurls.append(\"https://en.wikipedia.org\"+goodurls[i][0])\n",
    "        continue\n",
    "    else:\n",
    "        aggregateurls.append(badurls[i])\n",
    "\n",
    "attempt_to_salvage_wikiviews =[x[30:] for x in aggregateurls]"
   ]
  },
  {
   "cell_type": "code",
   "execution_count": null,
   "metadata": {
    "collapsed": false
   },
   "outputs": [],
   "source": [
    "regexcomp = ['en ' + x + ' .*' for x in attempt_to_salvage_wikiviews]\n",
    "print('done')\n",
    "salvaged_bad_pages=[re.findall(x, file_content) for x in regexcomp]"
   ]
  },
  {
   "cell_type": "code",
   "execution_count": null,
   "metadata": {
    "collapsed": false
   },
   "outputs": [],
   "source": [
    "badletters= tuple(badletters)\n",
    "salvaged_bad_pages= tuple(salvaged_bad_pages)\n"
   ]
  },
  {
   "cell_type": "code",
   "execution_count": null,
   "metadata": {
    "collapsed": false
   },
   "outputs": [],
   "source": [
    "wikiviews_repair =(zip(salvaged_bad_pages,badletters))\n",
    "wikiviews_repair = {x[1]:x[0] for x in wikiviews_repair}\n",
    "\n"
   ]
  },
  {
   "cell_type": "code",
   "execution_count": null,
   "metadata": {
    "collapsed": false
   },
   "outputs": [],
   "source": [
    "wikiviews_final=list()\n",
    "for i in range(len(wikiviews_initial)):\n",
    "    if len(wikiviews_initial[i])==1:\n",
    "        wikiviews_final.append(wikiviews_initial[i])\n",
    "    elif i in wikiviews_repair:\n",
    "        wikiviews_final.append(wikiviews_repair[i])\n",
    "    else:\n",
    "        continue\n",
    "\n"
   ]
  },
  {
   "cell_type": "code",
   "execution_count": 384,
   "metadata": {
    "collapsed": false
   },
   "outputs": [
    {
     "data": {
      "text/plain": [
       "[['en Agent_%28economics%29 1 11821'],\n",
       " ['en Aggregate_demand 22 464880'],\n",
       " ['en Aggregate_supply 7 67476'],\n",
       " ['en Agricultural_policy 3 185278'],\n",
       " ['en Antitrust 12 1673654'],\n",
       " ['en Arbitrage 35 973520'],\n",
       " ['en Balance_of_trade 23 825391'],\n",
       " ['en Big_Mac_Index 18 657455'],\n",
       " ['en Big_push_model 6 85906'],\n",
       " ['en Black_market 41 4141632'],\n",
       " ['en Business_cycle 27 2465641'],\n",
       " ['en Canadian_and_American_economies_compared 1 62086'],\n",
       " ['en Capital_%28economics%29 1 83340'],\n",
       " ['en Capital_asset 9 124022'],\n",
       " ['en Capital_intensity 5 56699'],\n",
       " ['en Capitalism 148 23566350'],\n",
       " ['en Cartel 21 558101'],\n",
       " ['en Cash_crop 17 796483'],\n",
       " [],\n",
       " ['en Central_bank 22 1803196'],\n",
       " ['en Chicago_school_of_economics 15 727069'],\n",
       " ['en Classical_economics 16 438807'],\n",
       " ['en Collective_action 10 180366'],\n",
       " ['en Collusion 12 205081'],\n",
       " ['en Commodity 30 973975'],\n",
       " ['en Commodity_market 27 1652945'],\n",
       " [],\n",
       " ['en Comparative_advantage 36 1456289'],\n",
       " ['en Competition 29 1427895'],\n",
       " ['en Complement_good 1 13739'],\n",
       " ['en Complementarity 1 8387'],\n",
       " ['en Consumer 13 280722'],\n",
       " ['en Economic_surplus 16 283272'],\n",
       " ['en Consumer_price_index 36 1127430'],\n",
       " ['en Consumer_choice 15 549844'],\n",
       " ['en Consumerism 44 2274006'],\n",
       " [],\n",
       " ['en Cost 7 106486'],\n",
       " ['en Cost_benefit_analysis 1 28729'],\n",
       " ['en Cost_of_living_index 1 36891'],\n",
       " ['en Cost-of-production_theory_of_value 5 55014'],\n",
       " ['en Currency 34 2378267'],\n",
       " ['en Debt 19 903787'],\n",
       " ['en Decentralization 32 2358101'],\n",
       " ['en Deflation 20 1216014'],\n",
       " [],\n",
       " ['en Devaluation 11 186386'],\n",
       " ['en Disinflation 4 59977'],\n",
       " ['en Disposable_income 2 20396'],\n",
       " [],\n",
       " ['en Economic 3 233418'],\n",
       " ['en Economic_data 2 30039'],\n",
       " ['en Economic_growth 59 4851594'],\n",
       " ['en Economic_indicator 6 99830'],\n",
       " [],\n",
       " ['en List_of_economic_reports_by_U.S._government_agencies 1 7993'],\n",
       " ['en Subjective_theory_of_value 4 44556'],\n",
       " ['en Economic_system 26 1067815'],\n",
       " ['en Economies_of_agglomeration 6 80400'],\n",
       " ['en Economies_of_scale 30 683693'],\n",
       " ['en Economies_of_scope 6 83019'],\n",
       " ['en Economy 33 1143572'],\n",
       " ['en Ecosystem_services 28 1319552'],\n",
       " ['en Efficiency_wage 1 23785'],\n",
       " ['en Efficient-market_hypothesis 31 1263835'],\n",
       " [],\n",
       " ['en Employment 61 6068781'],\n",
       " ['en Entrepreneur 15 923250'],\n",
       " ['en Entrepreneurship 62 3979787'],\n",
       " ['en Environmental_finance 1 9732'],\n",
       " ['en Euro 138 22103915'],\n",
       " ['en Event_study 1 0'],\n",
       " ['en The_Experience_Economy 1 10714'],\n",
       " ['en Export 27 2157903'],\n",
       " ['en Externality 34 1423891'],\n",
       " [],\n",
       " ['en Factors_of_production 22 536875'],\n",
       " ['en Fair_trade 37 4811549'],\n",
       " ['en Federal_Reserve 5 1359110'],\n",
       " ['en Finance 59 2028013'],\n",
       " ['en Financial_capital 7 178702'],\n",
       " ['en Financial_crisis 20 929911'],\n",
       " ['en Financial_instruments 2 104590'],\n",
       " ['en Excess_burden_of_taxation 2 30014'],\n",
       " ['en Fiscal_policy 26 537387'],\n",
       " [],\n",
       " ['en Free_trade 62 3689818'],\n",
       " [],\n",
       " ['en Game_theory 122 10726409'],\n",
       " ['en General_equilibrium 1 35670'],\n",
       " ['en Globalization 139 33075867'],\n",
       " ['en Gold_standard 36 2809660'],\n",
       " [],\n",
       " [],\n",
       " ['en Gross_domestic_product 160 10004750'],\n",
       " ['en Gross_national_product 20 354948'],\n",
       " ['en History_of_economic_thought 19 3681956'],\n",
       " ['en Home_economics 2 47160'],\n",
       " ['en Human_Development_Index 136 13775108'],\n",
       " ['en Human_capital 41 1582309'],\n",
       " ['en Human_development_theory 4 37076'],\n",
       " ['en Hyperinflation 32 3229830'],\n",
       " ['en Import 15 190747'],\n",
       " ['en Import_substitution_industrialization 15 734419'],\n",
       " ['en Incentive 2 32103'],\n",
       " ['en Income 6 79416'],\n",
       " ['en Income_elasticity_of_demand 19 222759'],\n",
       " ['en Income_tax 44 1482336'],\n",
       " ['en Velocity_of_money 6 70227'],\n",
       " ['en Individual_capital 2 56137'],\n",
       " ['en Induced_demand 2 14220'],\n",
       " ['en Industrial_organization 7 221482'],\n",
       " ['en Industrial_Revolution 300 35076999'],\n",
       " ['en Industrial_policy 5 265237'],\n",
       " ['en Industrialisation 31 681417'],\n",
       " ['en Inferior_good 18 253125'],\n",
       " ['en Inflation 67 5067819'],\n",
       " [],\n",
       " ['en Interest 15 545894'],\n",
       " ['en International_trade 22 1240829'],\n",
       " ['en Investment 19 545010'],\n",
       " ['en Investment_policy 4 158786'],\n",
       " ['en Invisible_hand 41 1107632'],\n",
       " ['en John_Maynard_Keynes 65 7296261'],\n",
       " ['en Keynesian_economics 66 3626257'],\n",
       " [],\n",
       " ['en Labor_market 2 160737'],\n",
       " ['en Labor_theory_of_value 23 1027078'],\n",
       " ['en Laissez_faire 1 38296'],\n",
       " [],\n",
       " ['en Land_value_tax 4 695236'],\n",
       " ['en List_of_recessions 1 22244'],\n",
       " [],\n",
       " ['en Living_wage 13 584920'],\n",
       " ['en Local_currency 6 164360'],\n",
       " ['en Local_purchasing 4 127523'],\n",
       " ['en Lorenz_curve 20 243950'],\n",
       " ['en Macroeconomics 23 1195507'],\n",
       " [],\n",
       " ['en Marginalism 4 103381'],\n",
       " ['en Market 4 84822'],\n",
       " ['en Market_%28economics%29 1 42977'],\n",
       " ['en Market_economy 41 1676175'],\n",
       " ['en Market_failure 18 456887'],\n",
       " ['en Market_structure 7 152949'],\n",
       " ['en Market_power 4 61703'],\n",
       " ['en Market_share 17 274449'],\n",
       " ['en Market_system 1 10951'],\n",
       " [],\n",
       " ['en Means_of_production 26 640229'],\n",
       " ['en Measures_of_national_income_and_output 6 96620'],\n",
       " [],\n",
       " ['en Medium_of_exchange 6 92730'],\n",
       " ['en Mental_accounting 2 26273'],\n",
       " ['en Menu_cost 4 37625'],\n",
       " ['en Mercantilism 74 3539229'],\n",
       " ['en Mergers_and_acquisitions 59 4390483'],\n",
       " ['en Minimum_wage 58 6378825'],\n",
       " [],\n",
       " ['en Economic_model 14 559586'],\n",
       " ['en Macroeconomic_model 2 37194'],\n",
       " ['en Modern_portfolio_theory 32 1044997'],\n",
       " ['en Monetarism 15 623817'],\n",
       " ['en Monetary_policy 34 2261502'],\n",
       " [],\n",
       " ['en Money 51 3392173'],\n",
       " ['en Money_supply 31 1613259'],\n",
       " ['en Monopoly_profit 1 17433'],\n",
       " ['en Moral_hazard 18 547699'],\n",
       " ['en Moral_purchasing 1 140311'],\n",
       " [],\n",
       " ['en Measures_of_national_income_and_output 6 96620'],\n",
       " ['en Natural_Capitalism 3 71822'],\n",
       " ['en Natural_capital 6 171378'],\n",
       " ['en Potential_output 5 49432'],\n",
       " ['en Neo-Keynesian_economics 3 121958'],\n",
       " [],\n",
       " ['en Neoclassical_economics 27 781038'],\n",
       " ['en Network_effect 27 731864'],\n",
       " ['en Network_effect 27 731864'],\n",
       " ['en New_Keynesian_economics 8 539508'],\n",
       " ['en New_classical_economics 1 19686'],\n",
       " ['en Normal_good 5 51072'],\n",
       " ['en Operations_research 27 1209884'],\n",
       " ['en Opportunity_cost 35 777879'],\n",
       " [],\n",
       " ['en Parable_of_the_broken_window 26 498963'],\n",
       " ['en Pareto_efficiency 36 857482'],\n",
       " ['en Participatory_economics 8 339179'],\n",
       " ['en Petrocurrency 2 32950'],\n",
       " ['en Poverty 147 28293453'],\n",
       " ['en Poverty_level 1 32247'],\n",
       " ['en Preference 6 60650'],\n",
       " ['en Price 44 825095'],\n",
       " ['en Price_discrimination 17 446027'],\n",
       " ['en Price_elasticity_of_demand 100 3200132'],\n",
       " ['en Price_point 2 22273'],\n",
       " ['en Production,_costs,_and_pricing 1 12454'],\n",
       " ['en Production_%28economics%29 1 24884'],\n",
       " ['en Production_function 22 849636'],\n",
       " ['en Production_theory 5 166020'],\n",
       " ['en Productivism 2 60600'],\n",
       " ['en Productivity 23 1237035'],\n",
       " [],\n",
       " ['en Profit_maximization 22 363773'],\n",
       " ['en Prospect_theory 28 474054'],\n",
       " [],\n",
       " ['en Public_choice_theory 3 93053'],\n",
       " ['en Public_debt 2 78862'],\n",
       " ['en Public_good 34 1714298'],\n",
       " ['en Purchasing_power_parity 75 2819494'],\n",
       " ['en Rate_of_return_pricing 1 9308'],\n",
       " ['en Rational_choice_theory 46 1427278'],\n",
       " ['en Rational_expectations 4 91232'],\n",
       " ['en Rational_pricing 2 90189'],\n",
       " ['en Reaganomics 44 2320602'],\n",
       " ['en Real_business-cycle_theory 7 156015'],\n",
       " [],\n",
       " ['en Recession 28 1779855'],\n",
       " ['en Regression_analysis 137 5341869'],\n",
       " ['en Reserve_currency 18 743954'],\n",
       " ['en Returns_to_scale 22 317825'],\n",
       " ['en Risk_premium 10 107809'],\n",
       " [],\n",
       " ['en Sales_tax 10 319040'],\n",
       " ['en Saving 4 55215'],\n",
       " ['en Scarcity 18 289332'],\n",
       " ['en Seven_generation_sustainability 3 25338'],\n",
       " ['en Slavery 133 32423506'],\n",
       " ['en Social_capital 35 3534876'],\n",
       " ['en Social_cost 6 76259'],\n",
       " [],\n",
       " ['en Social_welfare 7 536322'],\n",
       " ['en Socialism 368 86035150'],\n",
       " ['en Specialization_%28functional%29 1 8605'],\n",
       " ['en Stagflation 17 858610'],\n",
       " ['en Standard_of_living 25 311283'],\n",
       " ['en Stock_exchange 29 1489384'],\n",
       " ['en Subsidy 21 1000632'],\n",
       " ['en Subsistence_agriculture 6 93312'],\n",
       " ['en Substitute_good 11 163622'],\n",
       " ['en Sunk_cost 2 44634'],\n",
       " ['en Supply-side_economics 24 1328414'],\n",
       " ['en Supply_and_demand 37 1336454'],\n",
       " ['en Surplus_value 7 308921'],\n",
       " ['en Sustainable_competitive_advantage 2 37776'],\n",
       " ['en Sustainable_development 59 3559082'],\n",
       " ['en Sweatshop 29 1341926'],\n",
       " ['en Tariff 21 718802'],\n",
       " ['en Tax 73 10778729'],\n",
       " ['en Tax 73 10778729'],\n",
       " [],\n",
       " ['en Terms_of_trade 4 50164'],\n",
       " ['en The_Theory_of_Moral_Sentiments 5 137207'],\n",
       " [],\n",
       " ['en Time_preference 5 62054'],\n",
       " ['en Time_value_of_money 18 554711'],\n",
       " ['en Trade 44 2795743'],\n",
       " ['en Trade_bloc 10 628942'],\n",
       " ['en Trade_pact 1 19771'],\n",
       " ['en Jane_Jacobs 17 924151'],\n",
       " ['en Transaction_cost 8 137336'],\n",
       " ['en Triple_bottom_line 41 984755'],\n",
       " [],\n",
       " ['en U.S._public_debt 1 327406'],\n",
       " ['en Human_Development_Index 136 13775108'],\n",
       " ['en Uneconomic_growth 2 27751'],\n",
       " ['en Unemployment 47 7477324'],\n",
       " ['en United_States_dollar 113 12538262'],\n",
       " ['en Utilitarianism 183 19386525'],\n",
       " ['en Utility 39 982480'],\n",
       " ['en Utility_maximization_problem 7 80950'],\n",
       " ['en Value_added_tax 9 929108'],\n",
       " [],\n",
       " ['en Value_added 12 229808'],\n",
       " ['en Value_of_Earth 2 27484'],\n",
       " ['en Value_of_life 1 18292'],\n",
       " ['en Virtuous_circle_and_vicious_circle 18 229693'],\n",
       " ['en Wage 16 712752'],\n",
       " ['en Wealth 24 1047231'],\n",
       " [],\n",
       " ['en Yen 2 320195']]"
      ]
     },
     "execution_count": 384,
     "metadata": {},
     "output_type": "execute_result"
    }
   ],
   "source": [
    "wikiviews_final"
   ]
  },
  {
   "cell_type": "code",
   "execution_count": null,
   "metadata": {
    "collapsed": false
   },
   "outputs": [],
   "source": [
    "range(len(wikiviews_initial))"
   ]
  },
  {
   "cell_type": "code",
   "execution_count": null,
   "metadata": {
    "collapsed": true
   },
   "outputs": [],
   "source": []
  },
  {
   "cell_type": "code",
   "execution_count": null,
   "metadata": {
    "collapsed": true
   },
   "outputs": [],
   "source": []
  },
  {
   "cell_type": "code",
   "execution_count": null,
   "metadata": {
    "collapsed": true
   },
   "outputs": [],
   "source": []
  },
  {
   "cell_type": "code",
   "execution_count": null,
   "metadata": {
    "collapsed": true
   },
   "outputs": [],
   "source": []
  },
  {
   "cell_type": "code",
   "execution_count": null,
   "metadata": {
    "collapsed": true
   },
   "outputs": [],
   "source": []
  },
  {
   "cell_type": "code",
   "execution_count": null,
   "metadata": {
    "collapsed": true
   },
   "outputs": [],
   "source": []
  },
  {
   "cell_type": "code",
   "execution_count": null,
   "metadata": {
    "collapsed": true
   },
   "outputs": [],
   "source": []
  },
  {
   "cell_type": "code",
   "execution_count": null,
   "metadata": {
    "collapsed": true
   },
   "outputs": [],
   "source": []
  },
  {
   "cell_type": "code",
   "execution_count": null,
   "metadata": {
    "collapsed": true
   },
   "outputs": [],
   "source": []
  },
  {
   "cell_type": "code",
   "execution_count": null,
   "metadata": {
    "collapsed": true
   },
   "outputs": [],
   "source": []
  },
  {
   "cell_type": "code",
   "execution_count": null,
   "metadata": {
    "collapsed": true
   },
   "outputs": [],
   "source": []
  }
 ],
 "metadata": {
  "kernelspec": {
   "display_name": "Python 2",
   "language": "python",
   "name": "python2"
  },
  "language_info": {
   "codemirror_mode": {
    "name": "ipython",
    "version": 2
   },
   "file_extension": ".py",
   "mimetype": "text/x-python",
   "name": "python",
   "nbconvert_exporter": "python",
   "pygments_lexer": "ipython2",
   "version": "2.7.6"
  }
 },
 "nbformat": 4,
 "nbformat_minor": 0
}
