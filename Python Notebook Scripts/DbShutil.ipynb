{
 "cells": [
  {
   "cell_type": "markdown",
   "metadata": {},
   "source": [
    "#### https://dumps.wikimedia.org/other/pagecounts-raw/2016/2016-03/pagecounts-20160317-110000.gz"
   ]
  },
  {
   "cell_type": "code",
   "execution_count": 69,
   "metadata": {
    "collapsed": false
   },
   "outputs": [
    {
     "data": {
      "text/plain": [
       "['https://dumps.wikimedia.org/other/pagecounts-raw/2016/2016-03/pagecounts-20160329-110000.gz',\n",
       " 'https://dumps.wikimedia.org/other/pagecounts-raw/2016/2016-03/pagecounts-20160329-100000.gz',\n",
       " 'https://dumps.wikimedia.org/other/pagecounts-raw/2016/2016-03/pagecounts-20160329-090000.gz',\n",
       " 'https://dumps.wikimedia.org/other/pagecounts-raw/2016/2016-03/pagecounts-20160329-080000.gz',\n",
       " 'https://dumps.wikimedia.org/other/pagecounts-raw/2016/2016-03/pagecounts-20160329-070000.gz',\n",
       " 'https://dumps.wikimedia.org/other/pagecounts-raw/2016/2016-03/pagecounts-20160329-060000.gz',\n",
       " 'https://dumps.wikimedia.org/other/pagecounts-raw/2016/2016-03/pagecounts-20160329-050000.gz',\n",
       " 'https://dumps.wikimedia.org/other/pagecounts-raw/2016/2016-03/pagecounts-20160329-040000.gz',\n",
       " 'https://dumps.wikimedia.org/other/pagecounts-raw/2016/2016-03/pagecounts-20160329-030000.gz',\n",
       " 'https://dumps.wikimedia.org/other/pagecounts-raw/2016/2016-03/pagecounts-20160329-020000.gz',\n",
       " 'https://dumps.wikimedia.org/other/pagecounts-raw/2016/2016-03/pagecounts-20160329-010000.gz',\n",
       " 'https://dumps.wikimedia.org/other/pagecounts-raw/2016/2016-03/pagecounts-20160329-000000.gz',\n",
       " 'https://dumps.wikimedia.org/other/pagecounts-raw/2016/2016-03/pagecounts-20160328-240000.gz',\n",
       " 'https://dumps.wikimedia.org/other/pagecounts-raw/2016/2016-03/pagecounts-20160328-230000.gz',\n",
       " 'https://dumps.wikimedia.org/other/pagecounts-raw/2016/2016-03/pagecounts-20160328-220000.gz',\n",
       " 'https://dumps.wikimedia.org/other/pagecounts-raw/2016/2016-03/pagecounts-20160328-210000.gz',\n",
       " 'https://dumps.wikimedia.org/other/pagecounts-raw/2016/2016-03/pagecounts-20160328-200000.gz',\n",
       " 'https://dumps.wikimedia.org/other/pagecounts-raw/2016/2016-03/pagecounts-20160328-190000.gz',\n",
       " 'https://dumps.wikimedia.org/other/pagecounts-raw/2016/2016-03/pagecounts-20160328-180000.gz',\n",
       " 'https://dumps.wikimedia.org/other/pagecounts-raw/2016/2016-03/pagecounts-20160328-170000.gz',\n",
       " 'https://dumps.wikimedia.org/other/pagecounts-raw/2016/2016-03/pagecounts-20160328-160000.gz',\n",
       " 'https://dumps.wikimedia.org/other/pagecounts-raw/2016/2016-03/pagecounts-20160328-150000.gz',\n",
       " 'https://dumps.wikimedia.org/other/pagecounts-raw/2016/2016-03/pagecounts-20160328-140000.gz',\n",
       " 'https://dumps.wikimedia.org/other/pagecounts-raw/2016/2016-03/pagecounts-20160328-130000.gz',\n",
       " 'https://dumps.wikimedia.org/other/pagecounts-raw/2016/2016-03/pagecounts-20160328-120000.gz',\n",
       " 'https://dumps.wikimedia.org/other/pagecounts-raw/2016/2016-03/pagecounts-20160328-110000.gz',\n",
       " 'https://dumps.wikimedia.org/other/pagecounts-raw/2016/2016-03/pagecounts-20160328-100000.gz',\n",
       " 'https://dumps.wikimedia.org/other/pagecounts-raw/2016/2016-03/pagecounts-20160328-090000.gz',\n",
       " 'https://dumps.wikimedia.org/other/pagecounts-raw/2016/2016-03/pagecounts-20160328-080000.gz',\n",
       " 'https://dumps.wikimedia.org/other/pagecounts-raw/2016/2016-03/pagecounts-20160328-070000.gz',\n",
       " 'https://dumps.wikimedia.org/other/pagecounts-raw/2016/2016-03/pagecounts-20160328-060000.gz',\n",
       " 'https://dumps.wikimedia.org/other/pagecounts-raw/2016/2016-03/pagecounts-20160328-050000.gz',\n",
       " 'https://dumps.wikimedia.org/other/pagecounts-raw/2016/2016-03/pagecounts-20160328-040000.gz',\n",
       " 'https://dumps.wikimedia.org/other/pagecounts-raw/2016/2016-03/pagecounts-20160328-030000.gz',\n",
       " 'https://dumps.wikimedia.org/other/pagecounts-raw/2016/2016-03/pagecounts-20160328-020000.gz',\n",
       " 'https://dumps.wikimedia.org/other/pagecounts-raw/2016/2016-03/pagecounts-20160328-010000.gz',\n",
       " 'https://dumps.wikimedia.org/other/pagecounts-raw/2016/2016-03/pagecounts-20160328-000000.gz']"
      ]
     },
     "execution_count": 69,
     "metadata": {},
     "output_type": "execute_result"
    }
   ],
   "source": [
    "import gzip\n",
    "import re\n",
    "import urllib\n",
    "import urllib2\n",
    "from lxml import html\n",
    "import requests\n",
    "import StringIO\n",
    "import MySQLdb\n",
    "import os\n",
    "import glob\n",
    "wikihourlylists = list()\n",
    "for i in range(1,4):\n",
    "    month = \"0\"+str(i)\n",
    "    for j in range(1,32):\n",
    "        if j <=9:\n",
    "            day = \"0\"+ str(j)\n",
    "        else:\n",
    "            day = str(j)\n",
    "        for k in range(0,25):\n",
    "            if k <= 9:\n",
    "                hour = \"0\" + str(k) + \"0000\"\n",
    "            else:\n",
    "                hour = str(k) + \"0000\"\n",
    "                \n",
    "            wikihourlylists.append(\"https://dumps.wikimedia.org/other/pagecounts-raw/2016/2016-\"+month+\"/pagecounts-2016\"+month+day+\"-\"+hour+\".gz\"\n",
    ")\n",
    "wikilinklist= sorted(wikihourlylists, reverse=True)\n",
    "#https://dumps.wikimedia.org/other/pagecounts-raw/2016/2016-03/pagecounts-20160301-000000.gz\n",
    "wikilinklist[100:200]\n",
    "wikilinklist[1:100][62:]\n"
   ]
  },
  {
   "cell_type": "code",
   "execution_count": 13,
   "metadata": {
    "collapsed": false
   },
   "outputs": [],
   "source": [
    "#filename='pagecounts-20160301-000000.gz'\n",
    "filepath='/home/dominic/Documents/Programming/Python/DJIA Wikiviews Continuation/'\n",
    "#filetable= \"`\"filename[15:22]\"`\"\n",
    "#filename = \"pagecounts-20160327-230000.gz\"\n",
    "filename = \"pagecounts-20160306-200000.gz\"\n",
    "def wiki_qer():\n",
    "    wikilinks_to_download=wikilinklist[100:200]\n",
    "    for i in wikilinks_to_download:\n",
    "        filename = i[62:]\n",
    "        try:\n",
    "            print \"trying\", i\n",
    "            wikilinkdownloader(i)\n",
    "        except:\n",
    "            print i,\"failed to download\"\n",
    "            continue\n",
    "        try:\n",
    "            raw_file =wikiunzip(filename)\n",
    "        except:\n",
    "            print \"unzip error\"\n",
    "            continue\n",
    "        filetable = filename[15:22]\n",
    "        sql_exe_str =SQL_Generator(raw_file)\n",
    "        table_create()\n",
    "        insert_db(sql_exe_str)\n",
    "        os.remove(filepath+filename)\n",
    "        \n",
    "    \n",
    "    \n",
    "    \n",
    "    \n",
    "def wikilinkdownloader(url):\n",
    "    \n",
    "    testfile = urllib.URLopener()\n",
    "    print \"downloading\",url[62:]\n",
    "\n",
    "    testfile.retrieve(url, filepath+filename)\n",
    "    print \"download completed!\"\n",
    "    return(filename)\n",
    "    \n",
    "    \n",
    "def wikiunzip(filename):\n",
    "    source_dir = \"/home/dominic/Documents/Programming/Python/DJIA Wikiviews Continuation/\"+filename\n",
    "    dest_dir = filepath+filename\n",
    "    with gzip.open(source_dir, 'rb') as infile:\n",
    "        with open(dest_dir, 'w') as outfile:\n",
    "            for line in infile:\n",
    "                outfile.write(line)\n",
    "    with open(source_dir, \"r\") as f:\n",
    "        file_content = f.read()\n",
    "        return(file_content)\n",
    "    \n",
    "\n",
    "def SQL_Generator(opened_file):\n",
    "    \n",
    "    wikiimportant =(re.findall('en \\D.{0,64} [0-9][0-9]{4,10}',opened_file))\n",
    "    wikiimportant= [x.split(\" \") for x in wikiimportant]\n",
    "    sqlinsert= '''INSERT INTO'''+ tablename +'''(language,page_title,views,size) VALUES'''\n",
    "    sqlexecutes = [(x[0],x[1],x[2],x[3]) for x in wikiimportant]\n",
    "    sqlexe_str = [sqlinsert+str(x)+\";\" for x in sqlexecutes]\n",
    "    print \"sql has been generated\"\n",
    "    return(sql_exe_str)\n",
    "    \n",
    "def table_create():\n",
    "    db = MySQLdb.connect(\"localhost\", 'root', db=\"Hourly Wikipedia Views\" )\n",
    "    cursor = db.cursor()\n",
    "    sql = \"\"\"DROP TABLE IF EXISTS\"\"\"+ filetable +\"\"\";\n",
    "            CREATE TABLE \"\"\" +filetable +\"\"\"(\n",
    "         id  INT(11) NOT NULL AUTO_INCREMENT,\n",
    "         language  CHAR(3),\n",
    "         page_title CHAR(64),\n",
    "         views INT(11),\n",
    "         size INT(11),\n",
    "         primary key(`id`)\n",
    "         )\"\"\"\n",
    "    cursor.execute(sql)\n",
    "    cursor.close\n",
    "    db.close()\n",
    "\n",
    "\n",
    "def insert_db(sql_list):\n",
    "    db = MySQLdb.connect(\"localhost\", 'root', db=\"Hourly Wikipedia Views\" )\n",
    "    cursor = db.cursor()\n",
    "    sql = \"\"\n",
    "    for i in sql_list:\n",
    "        sql =i\n",
    "        cursor.execute(sql)\n",
    "        cursor.fetchall()\n",
    "    try:\n",
    "   # Commit your changes in the database\n",
    "       db.commit()\n",
    "    except:\n",
    "   # Rollback in case there is any error\n",
    "       db.rollback()\n",
    "#except:\n",
    "    #db.rollback()\n",
    "    db.close()\n"
   ]
  },
  {
   "cell_type": "code",
   "execution_count": 47,
   "metadata": {
    "collapsed": false
   },
   "outputs": [],
   "source": [
    "filename = \"pagecounts-20160306-200000.gz\"\n",
    "tablename = \"`\"+filename[:-7]+\"`\"\n",
    "#wikilinkdownloader(\"https://dumps.wikimedia.org/other/pagecounts-raw/2016/2016-03/\"+filename)\n",
    "wikiunzip(filename)\n",
    "raw_file =wikiunzip(filename)"
   ]
  },
  {
   "cell_type": "code",
   "execution_count": 72,
   "metadata": {
    "collapsed": false
   },
   "outputs": [
    {
     "ename": "AttributeError",
     "evalue": "'list' object has no attribute 'split'",
     "output_type": "error",
     "traceback": [
      "\u001b[1;31m---------------------------------------------------------------------------\u001b[0m",
      "\u001b[1;31mAttributeError\u001b[0m                            Traceback (most recent call last)",
      "\u001b[1;32m<ipython-input-72-f39041fc43e6>\u001b[0m in \u001b[0;36m<module>\u001b[1;34m()\u001b[0m\n\u001b[0;32m      3\u001b[0m \u001b[0mimportant\u001b[0m \u001b[1;33m=\u001b[0m\u001b[1;33m(\u001b[0m\u001b[0mre\u001b[0m\u001b[1;33m.\u001b[0m\u001b[0mfindall\u001b[0m\u001b[1;33m(\u001b[0m\u001b[1;34m'en \\D.{0,64} [0-9][0-9]{4,10}'\u001b[0m\u001b[1;33m,\u001b[0m\u001b[0mfile_content\u001b[0m\u001b[1;33m)\u001b[0m\u001b[1;33m)\u001b[0m\u001b[1;33m\u001b[0m\u001b[0m\n\u001b[0;32m      4\u001b[0m \u001b[0mwikiimportant\u001b[0m \u001b[1;33m=\u001b[0m \u001b[0mwikiimportant\u001b[0m\u001b[1;33m\u001b[0m\u001b[0m\n\u001b[1;32m----> 5\u001b[1;33m \u001b[0mwikiimportant\u001b[0m\u001b[1;33m=\u001b[0m \u001b[1;33m[\u001b[0m\u001b[0mx\u001b[0m\u001b[1;33m.\u001b[0m\u001b[0msplit\u001b[0m\u001b[1;33m(\u001b[0m\u001b[1;34m\" \"\u001b[0m\u001b[1;33m)\u001b[0m \u001b[1;32mfor\u001b[0m \u001b[0mx\u001b[0m \u001b[1;32min\u001b[0m \u001b[0mwikiimportant\u001b[0m\u001b[1;33m]\u001b[0m\u001b[1;33m\u001b[0m\u001b[0m\n\u001b[0m\u001b[0;32m      6\u001b[0m \u001b[0msqlinsert\u001b[0m\u001b[1;33m=\u001b[0m \u001b[1;34m'''INSERT INTO `0301-00`(language,page_title,views,size) VALUES'''\u001b[0m\u001b[1;33m\u001b[0m\u001b[0m\n\u001b[0;32m      7\u001b[0m \u001b[0mtestlist\u001b[0m \u001b[1;33m=\u001b[0m \u001b[1;33m[\u001b[0m\u001b[1;33m(\u001b[0m\u001b[0mx\u001b[0m\u001b[1;33m[\u001b[0m\u001b[1;36m0\u001b[0m\u001b[1;33m]\u001b[0m\u001b[1;33m,\u001b[0m\u001b[0mx\u001b[0m\u001b[1;33m[\u001b[0m\u001b[1;36m1\u001b[0m\u001b[1;33m]\u001b[0m\u001b[1;33m,\u001b[0m\u001b[0mx\u001b[0m\u001b[1;33m[\u001b[0m\u001b[1;36m2\u001b[0m\u001b[1;33m]\u001b[0m\u001b[1;33m,\u001b[0m\u001b[0mx\u001b[0m\u001b[1;33m[\u001b[0m\u001b[1;36m3\u001b[0m\u001b[1;33m]\u001b[0m\u001b[1;33m)\u001b[0m \u001b[1;32mfor\u001b[0m \u001b[0mx\u001b[0m \u001b[1;32min\u001b[0m \u001b[0mwikiimportant\u001b[0m\u001b[1;33m]\u001b[0m\u001b[1;33m\u001b[0m\u001b[0m\n",
      "\u001b[1;31mAttributeError\u001b[0m: 'list' object has no attribute 'split'"
     ]
    }
   ],
   "source": [
    "with gzip.open(\"/home/dominic/Documents/Programming/Python/DJIA Wikiviews Continuation/\"+filename, 'rb') as f:\n",
    "    file_content = f.read()\n",
    "important =(re.findall('en \\D.{0,64} [0-9][0-9]{4,10}',file_content))\n",
    "wikiimportant = wikiimportant\n",
    "wikiimportant= [x.split(\" \") for x in wikiimportant]\n",
    "sqlinsert= '''INSERT INTO `0301-00`(language,page_title,views,size) VALUES'''\n",
    "testlist = [(x[0],x[1],x[2],x[3]) for x in wikiimportant]\n",
    "testliststr = [sqlinsert+str(x)+\";\" for x in testlist]\n",
    "testliststr"
   ]
  },
  {
   "cell_type": "code",
   "execution_count": 66,
   "metadata": {
    "collapsed": false
   },
   "outputs": [
    {
     "name": "stderr",
     "output_type": "stream",
     "text": [
      "Exception _mysql_exceptions.OperationalError: (2013, 'Lost connection to MySQL server during query') in <bound method Cursor.__del__ of <MySQLdb.cursors.Cursor object at 0x7ff0fcfcaad0>> ignored\n"
     ]
    }
   ],
   "source": [
    "db = MySQLdb.connect(\"localhost\", 'root', db=\"Hourly Wikipedia Views\" )\n",
    "cursor = db.cursor()\n",
    "sqlUNIQUE = \"DROP TABLE IF EXISTS\"+ tablename+\";\"+\"CREATE TABLE\"+tablename\n",
    "sqlcopy = \"\"\"(\n",
    "         id  INT(11) NOT NULL AUTO_INCREMENT,\n",
    "         language  CHAR(3),\n",
    "         page_title CHAR(64),\n",
    "         views INT(11),\n",
    "         size INT(11),\n",
    "         primary key(`id`)\n",
    "         )\"\"\"\n",
    "sql = sqlUNIQUE+sqlcopy\n",
    "cursor.execute(sql)\n",
    "cursor.close\n",
    "db.close()"
   ]
  },
  {
   "cell_type": "code",
   "execution_count": 70,
   "metadata": {
    "collapsed": false
   },
   "outputs": [],
   "source": [
    "\n",
    "db = MySQLdb.connect(\"localhost\", 'root', db=\"Hourly Wikipedia Views\" )\n",
    "cursor = db.cursor()\n",
    "sql = \"\"\n",
    "for i in raw_file:\n",
    "    sql =i\n",
    "    cursor.execute(sql)\n",
    "    cursor.fetchall()\n",
    "\n",
    "\n",
    "try:\n",
    "   # Commit your changes in the database\n",
    "   db.commit()\n",
    "except:\n",
    "   # Rollback in case there is any error\n",
    "   db.rollback()\n",
    "#except:\n",
    "    #db.rollback()\n",
    "db.close()\n",
    "\n",
    "\n",
    "\n",
    "\n",
    "\n"
   ]
  },
  {
   "cell_type": "code",
   "execution_count": null,
   "metadata": {
    "collapsed": false
   },
   "outputs": [],
   "source": [
    "db = MySQLdb.connect(\"localhost\", 'root', db=\"Hourly Wikipedia Views\" )\n",
    "cursor = db.cursor()\n",
    "\n",
    "cursor.execute('set global max_allowed_packet=67108864')\n"
   ]
  },
  {
   "cell_type": "code",
   "execution_count": 16,
   "metadata": {
    "collapsed": false
   },
   "outputs": [
    {
     "ename": "AttributeError",
     "evalue": "'str' object has no attribute 'head'",
     "output_type": "error",
     "traceback": [
      "\u001b[1;31m---------------------------------------------------------------------------\u001b[0m",
      "\u001b[1;31mAttributeError\u001b[0m                            Traceback (most recent call last)",
      "\u001b[1;32m<ipython-input-16-6bdad1f56b1c>\u001b[0m in \u001b[0;36m<module>\u001b[1;34m()\u001b[0m\n\u001b[1;32m----> 1\u001b[1;33m \u001b[0mraw_file\u001b[0m\u001b[1;33m.\u001b[0m\u001b[0mhead\u001b[0m\u001b[1;33m(\u001b[0m\u001b[1;33m)\u001b[0m\u001b[1;33m\u001b[0m\u001b[0m\n\u001b[0m",
      "\u001b[1;31mAttributeError\u001b[0m: 'str' object has no attribute 'head'"
     ]
    }
   ],
   "source": [
    "raw_file.head()"
   ]
  },
  {
   "cell_type": "code",
   "execution_count": 25,
   "metadata": {
    "collapsed": false
   },
   "outputs": [],
   "source": []
  },
  {
   "cell_type": "code",
   "execution_count": 26,
   "metadata": {
    "collapsed": false
   },
   "outputs": [
    {
     "data": {
      "text/plain": [
       "'DROP TABLE IF EXISTSpagecounts-20160306-20;CREATE TABLEpagecounts-20160306-20\"(\\n         id  INT(11) NOT NULL AUTO_INCREMENT,\\n         language  CHAR(3),\\n         page_title CHAR(64),\\n         views INT(11),\\n         size INT(11),\\n         primary key(`id`)\\n         )'"
      ]
     },
     "execution_count": 26,
     "metadata": {},
     "output_type": "execute_result"
    }
   ],
   "source": [
    "sql"
   ]
  },
  {
   "cell_type": "code",
   "execution_count": 45,
   "metadata": {
    "collapsed": false
   },
   "outputs": [],
   "source": [
    "sql = '''DROP TABLE IF EXISTS'''+tablename+\"; \"+\"CREATE TABLE \"+tablename \\\n",
    "+\"\"\"\"(\n",
    "id  INT(11) NOT NULL AUTO_INCREMENT,\n",
    "language  CHAR(3),\n",
    "page_title CHAR(64),\n",
    "views INT(11),size INT(11),\n",
    "primary key(`id`)\n",
    ")\"\"\""
   ]
  },
  {
   "cell_type": "code",
   "execution_count": 71,
   "metadata": {
    "collapsed": false
   },
   "outputs": [
    {
     "ename": "ProgrammingError",
     "evalue": "closing a closed connection",
     "output_type": "error",
     "traceback": [
      "\u001b[1;31m---------------------------------------------------------------------------\u001b[0m",
      "\u001b[1;31mProgrammingError\u001b[0m                          Traceback (most recent call last)",
      "\u001b[1;32m<ipython-input-71-dc9bb4b9d611>\u001b[0m in \u001b[0;36m<module>\u001b[1;34m()\u001b[0m\n\u001b[0;32m      2\u001b[0m \u001b[0msqlcopy\u001b[0m\u001b[1;33m\u001b[0m\u001b[0m\n\u001b[0;32m      3\u001b[0m \u001b[0mcursor\u001b[0m\u001b[1;33m.\u001b[0m\u001b[0mclose\u001b[0m\u001b[1;33m\u001b[0m\u001b[0m\n\u001b[1;32m----> 4\u001b[1;33m \u001b[0mdb\u001b[0m\u001b[1;33m.\u001b[0m\u001b[0mclose\u001b[0m\u001b[1;33m(\u001b[0m\u001b[1;33m)\u001b[0m\u001b[1;33m\u001b[0m\u001b[0m\n\u001b[0m",
      "\u001b[1;31mProgrammingError\u001b[0m: closing a closed connection"
     ]
    }
   ],
   "source": [
    "sqlUNIQUE\n",
    "sqlcopy\n",
    "cursor.close\n",
    "db.close()"
   ]
  },
  {
   "cell_type": "code",
   "execution_count": null,
   "metadata": {
    "collapsed": true
   },
   "outputs": [],
   "source": []
  }
 ],
 "metadata": {
  "kernelspec": {
   "display_name": "Python 2",
   "language": "python",
   "name": "python2"
  },
  "language_info": {
   "codemirror_mode": {
    "name": "ipython",
    "version": 2
   },
   "file_extension": ".py",
   "mimetype": "text/x-python",
   "name": "python",
   "nbconvert_exporter": "python",
   "pygments_lexer": "ipython2",
   "version": "2.7.6"
  }
 },
 "nbformat": 4,
 "nbformat_minor": 0
}
